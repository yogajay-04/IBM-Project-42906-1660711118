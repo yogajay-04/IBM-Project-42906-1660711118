{
  "nbformat": 4,
  "nbformat_minor": 0,
  "metadata": {
    "colab": {
      "provenance": []
    },
    "kernelspec": {
      "name": "python3",
      "display_name": "Python 3"
    },
    "language_info": {
      "name": "python"
    }
  },
  "cells": [
    {
      "cell_type": "markdown",
      "source": [
        "2.Importing The Dataset"
      ],
      "metadata": {
        "id": "kn66rEBr5UGU"
      }
    },
    {
      "cell_type": "code",
      "source": [
        "data = pd.read_csv(\"E:\\IBM_project\\weatherAUS.csv\")"
      ],
      "metadata": {
        "id": "UaG5U59G5akO"
      },
      "execution_count": null,
      "outputs": []
    },
    {
      "cell_type": "code",
      "source": [
        "data.head()"
      ],
      "metadata": {
        "id": "TXzxVRUS50eI"
      },
      "execution_count": null,
      "outputs": []
    }
  ]
}