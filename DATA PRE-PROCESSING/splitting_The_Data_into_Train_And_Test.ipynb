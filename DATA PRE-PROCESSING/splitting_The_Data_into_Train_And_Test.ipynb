{
  "nbformat": 4,
  "nbformat_minor": 0,
  "metadata": {
    "colab": {
      "provenance": []
    },
    "kernelspec": {
      "name": "python3",
      "display_name": "Python 3"
    },
    "language_info": {
      "name": "python"
    }
  },
  "cells": [
    {
      "cell_type": "code",
      "execution_count": null,
      "metadata": {
        "id": "DbB_QN9_XfLz"
      },
      "outputs": [],
      "source": [
        "splitting The Data into Train And Test "
      ]
    },
    {
      "cell_type": "code",
      "source": [
        "from sklearn import model_selection"
      ],
      "metadata": {
        "id": "Ewqb_tMdYMAD"
      },
      "execution_count": null,
      "outputs": []
    },
    {
      "cell_type": "code",
      "source": [
        "x_train,x_test,y_train,y_test=model_selection.train_test_split(x,y,test_size=0.2,random_state=0)"
      ],
      "metadata": {
        "id": "CfOz40m8YWcE"
      },
      "execution_count": null,
      "outputs": []
    }
  ]
}