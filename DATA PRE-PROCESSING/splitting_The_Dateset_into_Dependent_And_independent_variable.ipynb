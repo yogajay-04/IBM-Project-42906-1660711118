{
  "nbformat": 4,
  "nbformat_minor": 0,
  "metadata": {
    "colab": {
      "provenance": []
    },
    "kernelspec": {
      "name": "python3",
      "display_name": "Python 3"
    },
    "language_info": {
      "name": "python"
    }
  },
  "cells": [
    {
      "cell_type": "code",
      "execution_count": null,
      "metadata": {
        "id": "UOP8iJiWLVxq"
      },
      "outputs": [],
      "source": [
        "1.splittig The Dateset into depedent And independent variable"
      ]
    },
    {
      "cell_type": "markdown",
      "source": [],
      "metadata": {
        "id": "hSuK4UgrPcMJ"
      }
    },
    {
      "cell_type": "code",
      "source": [
        "import pandas as pd\n",
        "import numby as np\n",
        "import matplotlip .pblot as plt\n",
        "import seaborn as sns \n"
      ],
      "metadata": {
        "id": "k79i-0jqLsf2"
      },
      "execution_count": null,
      "outputs": []
    },
    {
      "cell_type": "code",
      "source": [
        "data=pd.read_csv(\"c:\\\\Users\\\\intec\\\\oneDrive\\\\Desktop\\\\weatherAUS.csv\")"
      ],
      "metadata": {
        "id": "80wE6K4JNNPX"
      },
      "execution_count": null,
      "outputs": []
    },
    {
      "cell_type": "code",
      "source": [
        "y=data['RaiTomorrow']\n",
        "x=data.drop('RaiTomorrow',axis=1)"
      ],
      "metadata": {
        "id": "Co0SlMqSN1B3"
      },
      "execution_count": null,
      "outputs": []
    },
    {
      "cell_type": "markdown",
      "source": [],
      "metadata": {
        "id": "BMp6bq-ROyan"
      }
    }
  ]
}