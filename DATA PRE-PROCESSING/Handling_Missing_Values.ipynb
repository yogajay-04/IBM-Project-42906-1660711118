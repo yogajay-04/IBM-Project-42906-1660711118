{
  "nbformat": 4,
  "nbformat_minor": 0,
  "metadata": {
    "colab": {
      "provenance": []
    },
    "kernelspec": {
      "name": "python3",
      "display_name": "Python 3"
    },
    "language_info": {
      "name": "python"
    }
  },
  "cells": [
    {
      "cell_type": "markdown",
      "source": [
        "1.Handling Missing Values"
      ],
      "metadata": {
        "id": "ySDvuk4g986j"
      }
    },
    {
      "cell_type": "code",
      "source": [
        "import pandas as pd\n",
        "import numpy as np"
      ],
      "metadata": {
        "id": "0yERbUSk-E8_"
      },
      "execution_count": null,
      "outputs": []
    },
    {
      "cell_type": "code",
      "source": [
        "import sklearn import preprocessing\n",
        "import matplotlib.pyplot as plt\n"
      ],
      "metadata": {
        "id": "zxjpt9pz-Nl2"
      },
      "execution_count": null,
      "outputs": []
    },
    {
      "cell_type": "code",
      "source": [
        "from sklearn import preprocessing\n",
        "from sklearn import model_selection\n",
        "from sklearn import metrics\n",
        "from sklearn import Linear_model\n",
        "from sklearn import ensemble\n",
        "from sklearn import tree\n",
        "from sklearn import svm\n",
        "import xgboost"
      ],
      "metadata": {
        "id": "weJjLbzL-uic"
      },
      "execution_count": null,
      "outputs": []
    },
    {
      "cell_type": "code",
      "source": [
        "data = pd.read_csv(\"E:\\IBM_project\\weatherAUS.csv\")"
      ],
      "metadata": {
        "id": "6YDz6BRK_cLr"
      },
      "execution_count": null,
      "outputs": []
    },
    {
      "cell_type": "code",
      "source": [
        "data.head()"
      ],
      "metadata": {
        "id": "dhQg9Bmz_zI1"
      },
      "execution_count": null,
      "outputs": []
    },
    {
      "cell_type": "code",
      "source": [
        "data.describe()"
      ],
      "metadata": {
        "id": "hHJ68lDG_9Dq"
      },
      "execution_count": null,
      "outputs": []
    },
    {
      "cell_type": "code",
      "source": [
        "data.info()"
      ],
      "metadata": {
        "id": "qgt96fzmAFPn"
      },
      "execution_count": null,
      "outputs": []
    },
    {
      "cell_type": "code",
      "source": [
        "data.shape#gives the dimension of the data"
      ],
      "metadata": {
        "id": "zQ-CZtaPAKYi"
      },
      "execution_count": null,
      "outputs": []
    },
    {
      "cell_type": "code",
      "source": [
        "data.isnull().sum()"
      ],
      "metadata": {
        "id": "PMDoVrE-AUW7"
      },
      "execution_count": null,
      "outputs": []
    },
    {
      "cell_type": "code",
      "source": [
        "import missingno as msno\n",
        "msno.matrix(data,color=(0,55,0,255,0,255),fontsize=16)"
      ],
      "metadata": {
        "id": "ohCVqzyIAjwc"
      },
      "execution_count": null,
      "outputs": []
    },
    {
      "cell_type": "code",
      "source": [
        "import pandas as pd\n",
        "import numpy as np"
      ],
      "metadata": {
        "id": "pUfQSLRDBFBu"
      },
      "execution_count": null,
      "outputs": []
    },
    {
      "cell_type": "code",
      "source": [
        "import seaborn as sns\n",
        "import matplotlib.pyplot as plt"
      ],
      "metadata": {
        "id": "T_1AGWmgBM2V"
      },
      "execution_count": null,
      "outputs": []
    },
    {
      "cell_type": "code",
      "source": [
        "from sklearn import preprocessing\n",
        "from sklearn import model_selection\n",
        "from sklearn import metrics\n",
        "from sklearn import Linear_model\n",
        "from sklearn import ensemble\n",
        "from sklearn import tree\n",
        "from sklearn import svm\n",
        "import xgboost"
      ],
      "metadata": {
        "id": "bH-eIusGBZZw"
      },
      "execution_count": null,
      "outputs": []
    },
    {
      "cell_type": "code",
      "source": [
        "data = pd.read_csv(\"E:\\IBM_project\\weatherAUS.CSV\")"
      ],
      "metadata": {
        "id": "fX0Kw3lhCH2x"
      },
      "execution_count": null,
      "outputs": []
    },
    {
      "cell_type": "code",
      "source": [
        "data_cat = data [['RainToday','WindGustDir','WindDir9am','WindDir3pm']]\n",
        "data.drop(columns=['Evaporation','Sunshine','cloud9am,'Cloud3pm'],axis=1,inplace=True)\n",
        "data.drop(column=['RainToday','WindGustDir','windDir9am','windDir3pm'],axis=1,inplace=True)"
      ],
      "metadata": {
        "id": "XVwg_SlxCeNK"
      },
      "execution_count": null,
      "outputs": []
    },
    {
      "cell_type": "code",
      "source": [
        "data['MinTemp']fillna(data['MinTemp'].mean(),inplace=True)\n",
        "data['maxTemp']fillna(data['maxTemp'].mean(),inplace=True\n",
        "data['Rainfall']fillna(data['Rainfall'].mean(),inplace=True\n",
        "data['windGustSpeed']fillna(data['windGustSpeed'].mean(),inplace=True\n",
        "data['windSpeed9am']fillna(data['windSpeed9am'].mean(),inplace=True\n",
        "data['windSpeed3pm']fillna(data['windSpeed3pm'].mean(),inplace=True\n",
        "data['Humidity9am']fillna(data['Humidity9am'].mean(),inplace=True\n",
        "data['Humidity3pm']fillna(data['Humidity3pm'].mean(),inplace=True\n",
        "data['pressure9am']fllna(data['pressure9am'].mean(),inplace=True\n",
        "data['pressure3pm']fillna(data['pressure3pm'].mean(),inplace=True \n",
        "data['Teamp9am']fillna(data['Temp9am'].mean(),inplace=True\n",
        "data['Temp3pm']fillna(data['Teamp3pm'].mean(),inplace=True\n",
        "                                                                       \n",
        "                                                                                                                                                                                                                                      "
      ],
      "metadata": {
        "id": "nTogXbRoGbD0"
      },
      "execution_count": null,
      "outputs": []
    },
    {
      "cell_type": "code",
      "source": [
        "#filling the missing data of numeric variables with mean\n",
        "cat_names=data_cat.columns"
      ],
      "metadata": {
        "id": "MZ5Zf4D1LPHi"
      },
      "execution_count": null,
      "outputs": []
    },
    {
      "cell_type": "code",
      "source": [
        "import numpy as np\n",
        "from sklearn.impute import simpleImputer\n",
        "imp_mode=SimpleImputer(missing_values=np.nan,strategy='most_frequent')"
      ],
      "metadata": {
        "id": "LjHknxGNLfPC"
      },
      "execution_count": null,
      "outputs": []
    },
    {
      "cell_type": "code",
      "source": [
        "data_cat=imp_mode.fit_transform(data_cat)"
      ],
      "metadata": {
        "id": "zAFELsuJL-zR"
      },
      "execution_count": null,
      "outputs": []
    },
    {
      "cell_type": "code",
      "source": [
        "data_cat=pd.DataFrame(data_cat,columns=cat_names)"
      ],
      "metadata": {
        "id": "d696G4dJMKq-"
      },
      "execution_count": null,
      "outputs": []
    },
    {
      "cell_type": "code",
      "source": [
        "data=pd.concat([data,data_cat],axis=1)"
      ],
      "metadata": {
        "id": "Jj56c6kzMbcW"
      },
      "execution_count": null,
      "outputs": []
    }
  ]
}