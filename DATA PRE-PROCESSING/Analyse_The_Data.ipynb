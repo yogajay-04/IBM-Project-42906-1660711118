{
  "nbformat": 4,
  "nbformat_minor": 0,
  "metadata": {
    "colab": {
      "provenance": []
    },
    "kernelspec": {
      "name": "python3",
      "display_name": "Python 3"
    },
    "language_info": {
      "name": "python"
    }
  },
  "cells": [
    {
      "cell_type": "markdown",
      "source": [
        "1.Analysis The Data"
      ],
      "metadata": {
        "id": "7hcT3d-x8ltc"
      }
    },
    {
      "cell_type": "code",
      "source": [
        "data.head()"
      ],
      "metadata": {
        "id": "sLB6lygj820o"
      },
      "execution_count": null,
      "outputs": []
    }
  ]
}