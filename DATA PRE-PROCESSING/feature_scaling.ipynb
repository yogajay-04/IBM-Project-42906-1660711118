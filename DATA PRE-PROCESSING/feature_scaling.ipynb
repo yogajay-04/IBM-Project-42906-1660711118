{
  "nbformat": 4,
  "nbformat_minor": 0,
  "metadata": {
    "colab": {
      "provenance": []
    },
    "kernelspec": {
      "name": "python3",
      "display_name": "Python 3"
    },
    "language_info": {
      "name": "python"
    }
  },
  "cells": [
    {
      "cell_type": "code",
      "execution_count": null,
      "metadata": {
        "id": "QTNmWmgIRTfz"
      },
      "outputs": [],
      "source": [
        "1.Feature Scaling"
      ]
    },
    {
      "cell_type": "code",
      "source": [
        "import pandas as pd\n",
        "import numby as np\n"
      ],
      "metadata": {
        "id": "zr5xvB9DRhVJ"
      },
      "execution_count": null,
      "outputs": []
    },
    {
      "cell_type": "code",
      "source": [
        "import seaborn as ans\n",
        "import matplotlip.pyplot as plt\n"
      ],
      "metadata": {
        "id": "wPru3npARdCo"
      },
      "execution_count": null,
      "outputs": []
    },
    {
      "cell_type": "code",
      "source": [
        "from sklearn import preprocessing\n",
        "from sklearn import model_selection\n",
        "from sklearn import metrics\n",
        "from sklearn import linear_model\n",
        "from sklearn import ensemble\n",
        "from sklearn import tree\n",
        "import Xgboost"
      ],
      "metadata": {
        "id": "ZAAsAC4fSDSR"
      },
      "execution_count": null,
      "outputs": []
    },
    {
      "cell_type": "code",
      "source": [
        "from sklearn.preprocessig import standardscaler "
      ],
      "metadata": {
        "id": "3OeZDBMkS8Do"
      },
      "execution_count": null,
      "outputs": []
    },
    {
      "cell_type": "code",
      "source": [
        "data = pd.read_csv(\"E:\\IBM_project\\weatherAUS.csv\")"
      ],
      "metadata": {
        "id": "-zr3ZS1LTl00"
      },
      "execution_count": null,
      "outputs": []
    },
    {
      "cell_type": "code",
      "source": [
        "#splitting x and y values\n",
        "y=data['RainTomorrow']\n",
        "x=data.drop('RainTomorrow',axis=1)"
      ],
      "metadata": {
        "id": "GVm8obBOUIot"
      },
      "execution_count": null,
      "outputs": []
    },
    {
      "cell_type": "code",
      "source": [
        "names=x.columns #Loading the names of the of the x_features"
      ],
      "metadata": {
        "id": "nQDT6_FqU2fM"
      },
      "execution_count": null,
      "outputs": []
    },
    {
      "cell_type": "code",
      "source": [
        "names"
      ],
      "metadata": {
        "colab": {
          "base_uri": "https://localhost:8080/",
          "height": 165
        },
        "id": "uVLC4To3VJvC",
        "outputId": "1e52db2a-dbe6-46a5-c024-9902eab77f86"
      },
      "execution_count": 1,
      "outputs": [
        {
          "output_type": "error",
          "ename": "NameError",
          "evalue": "ignored",
          "traceback": [
            "\u001b[0;31m---------------------------------------------------------------------------\u001b[0m",
            "\u001b[0;31mNameError\u001b[0m                                 Traceback (most recent call last)",
            "\u001b[0;32m<ipython-input-1-c8beb69a2cd4>\u001b[0m in \u001b[0;36m<module>\u001b[0;34m\u001b[0m\n\u001b[0;32m----> 1\u001b[0;31m \u001b[0mnames\u001b[0m\u001b[0;34m\u001b[0m\u001b[0;34m\u001b[0m\u001b[0m\n\u001b[0m",
            "\u001b[0;31mNameError\u001b[0m: name 'names' is not defined"
          ]
        }
      ]
    },
    {
      "cell_type": "code",
      "source": [
        "sc =standardscaler()#initializing the standarscaler"
      ],
      "metadata": {
        "id": "n2y7Yy77VPoe"
      },
      "execution_count": 1,
      "outputs": []
    },
    {
      "cell_type": "code",
      "source": [
        "x=pd.DataFrame(x,columns=names)#scaled data turs ito array format,converting them into dataframe"
      ],
      "metadata": {
        "id": "978qJq15Vu4t"
      },
      "execution_count": null,
      "outputs": []
    }
  ]
}