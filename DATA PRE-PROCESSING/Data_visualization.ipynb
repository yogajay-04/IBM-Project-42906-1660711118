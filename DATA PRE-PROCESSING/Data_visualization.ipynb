{
  "nbformat": 4,
  "nbformat_minor": 0,
  "metadata": {
    "colab": {
      "provenance": []
    },
    "kernelspec": {
      "name": "python3",
      "display_name": "Python 3"
    },
    "language_info": {
      "name": "python"
    }
  },
  "cells": [
    {
      "cell_type": "code",
      "execution_count": null,
      "metadata": {
        "id": "Vf9eLrnUpIAL"
      },
      "outputs": [],
      "source": [
        "Data visualization"
      ]
    },
    {
      "cell_type": "code",
      "source": [
        "#import required modules"
      ],
      "metadata": {
        "id": "jeyhLN_WpYEC"
      },
      "execution_count": null,
      "outputs": []
    },
    {
      "cell_type": "code",
      "source": [
        "import pandas as pd\n",
        "import numby as np\n",
        "import matplotlip.pyplot as plt\n",
        "import seaborn as sns"
      ],
      "metadata": {
        "id": "JfuwvpL9pgWo"
      },
      "execution_count": null,
      "outputs": []
    },
    {
      "cell_type": "code",
      "source": [
        "#assign axis value"
      ],
      "metadata": {
        "id": "9uNkGpLdp2dY"
      },
      "execution_count": null,
      "outputs": []
    },
    {
      "cell_type": "code",
      "source": [
        "data=pd.read_csv(\"c:\\\\Users\\\\intec\\\\oneDrive\\\\weatherAUS.csv\")"
      ],
      "metadata": {
        "id": "RRYoDMf9p9Jl"
      },
      "execution_count": null,
      "outputs": []
    }
  ]
}